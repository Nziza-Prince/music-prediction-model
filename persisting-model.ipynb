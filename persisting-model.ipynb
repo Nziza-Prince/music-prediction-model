{
 "cells": [
  {
   "cell_type": "code",
   "execution_count": 2,
   "id": "fb5bed62",
   "metadata": {},
   "outputs": [
    {
     "data": {
      "text/plain": [
       "['music-recommender.joblib']"
      ]
     },
     "execution_count": 2,
     "metadata": {},
     "output_type": "execute_result"
    }
   ],
   "source": [
    "import pandas as pd\n",
    "from sklearn.tree import DecisionTreeClassifier\n",
    "import joblib\n",
    "\n",
    "music_data = pd.read_csv('music.csv')\n",
    "input_set = music_data.drop(columns=['genre'])\n",
    "output_set = music_data['genre']\n",
    "\n",
    "model = DecisionTreeClassifier()\n",
    "model.fit(input_set,output_set)\n",
    "\n",
    "joblib.dump(model,\"music-recommender.joblib\")\n",
    "\n",
    "\n"
   ]
  }
 ],
 "metadata": {
  "kernelspec": {
   "display_name": "base",
   "language": "python",
   "name": "python3"
  },
  "language_info": {
   "codemirror_mode": {
    "name": "ipython",
    "version": 3
   },
   "file_extension": ".py",
   "mimetype": "text/x-python",
   "name": "python",
   "nbconvert_exporter": "python",
   "pygments_lexer": "ipython3",
   "version": "3.12.7"
  }
 },
 "nbformat": 4,
 "nbformat_minor": 5
}
