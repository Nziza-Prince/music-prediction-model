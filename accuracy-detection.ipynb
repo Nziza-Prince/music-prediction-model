{
 "cells": [
  {
   "cell_type": "code",
   "execution_count": null,
   "id": "174f2cca",
   "metadata": {},
   "outputs": [],
   "source": [
    "import pandas as pd\n",
    "from sklearn.tree import DecisionTreeClassifier\n",
    "from sklearn.model_selection import train_test_split\n",
    "from sklearn.metrics import accuracy_score\n",
    "\n",
    "music_data = pd.read_csv('music.csv')\n",
    "input_set = music_data.drop(columns=['genre'])\n",
    "output_set = music_data['genre']\n",
    "input_set_train,input_set_test,output_set_train,output_set_test = train_test_split(input_set,output_set,test_size = 0.2)\n",
    "\n",
    "model = DecisionTreeClassifier()\n",
    "model.fit(input_set_train, output_set_train)\n",
    "predictions = model.predict(input_set_test)\n",
    "accuracy = accuracy_score(output_set_test,predictions)\n",
    "predictions,input_set_test,accuracy"
   ]
  }
 ],
 "metadata": {
  "language_info": {
   "name": "python"
  }
 },
 "nbformat": 4,
 "nbformat_minor": 5
}
